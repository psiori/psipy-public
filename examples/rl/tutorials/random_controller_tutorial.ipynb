{
 "cells": [
  {
   "cell_type": "markdown",
   "metadata": {},
   "source": [
    "# Random Controller Tutorial\n",
    "This tutorial will explain how to use both the discrete and continuous version of the random action controller."
   ]
  },
  {
   "cell_type": "code",
   "execution_count": null,
   "metadata": {},
   "outputs": [],
   "source": [
    "import random\n",
    "from abc import ABC, abstractmethod\n",
    "from typing import List, Tuple, Union\n",
    "\n",
    "import numpy as np\n",
    "\n",
    "from psipy.rl.plant import Action, State\n",
    "from psipy.rl.control.controller import DiscreteRandomActionController, ContinuousRandomActionController"
   ]
  },
  {
   "cell_type": "markdown",
   "metadata": {},
   "source": [
    "## Actions\n",
    "Actions come associated with a `dtype`.  This explains what type of action space they will have, either 'discrete' or 'continuous'.  Only the proper action types (discrete or continuous) can go into their respective controllers.\n",
    "\n",
    "Note `legal_values`: this is a tuple where each item corresponds to the respective channel.  These define the lower and upper (both inclusive) limits of that channel for continuous actions, and the actual action space for discrete actions.  For example, in the `DiscreteAction`, `channel1` has can take values in the range [0, 99]."
   ]
  },
  {
   "cell_type": "code",
   "execution_count": null,
   "metadata": {},
   "outputs": [],
   "source": [
    "class DiscreteAction(Action):\n",
    "    dtype = \"discrete\"\n",
    "    channels = (\n",
    "        \"channel1\",\n",
    "        \"channel2\"\n",
    "    )\n",
    "    legal_values = (range(0, 100), range(-10, 10))  # Actual values to sample from\n",
    "    \n",
    "class ContinuousAction(Action):\n",
    "    dtype='continuous'\n",
    "    channels = (\n",
    "        \"channel1\",\n",
    "        \"channel2\",\n",
    "        \"channel3\"\n",
    "    )\n",
    "    legal_values = ((0,100), (-10, 10), (-10, -5))  # [Lower, Upper]\n",
    "\n",
    "class CustomState(State):\n",
    "    _channels = (\n",
    "        \"state1\",\n",
    "        \"state2\"\n",
    "    )"
   ]
  },
  {
   "cell_type": "markdown",
   "metadata": {},
   "source": [
    "## Random Action Controllers\n",
    "These controllers sample randomly from the action spaces as defined like above.  They take in the state and action types that they will be manipulating, as well as a cycle manager to record cycle times.  A delay can also be applied, in order to make the actions not jitter between every state.  The `delay` parameter controlls how many states the controller must see before it computes another action."
   ]
  },
  {
   "cell_type": "markdown",
   "metadata": {},
   "source": [
    "### Invalid controller/action combination\n",
    "Here we try to put a discrete action into a continuous controller.  You can not sample continuously from a discrete space, so this throws an error.\n",
    "\n",
    "The same occurs when trying to put a continuous action into a discrete controller.  It is unknown how you would like to discretize the space, and so an error is thrown.  In this case, it would be best to create a discrete action with the discretization you desire."
   ]
  },
  {
   "cell_type": "code",
   "execution_count": null,
   "metadata": {},
   "outputs": [],
   "source": [
    "try:\n",
    "    breaks = ContinuousRandomActionController(CustomState.channels(), \n",
    "                                              DiscreteAction)\n",
    "except ValueError as e:\n",
    "    print(e)"
   ]
  },
  {
   "cell_type": "markdown",
   "metadata": {},
   "source": [
    "## Using the controllers"
   ]
  },
  {
   "cell_type": "markdown",
   "metadata": {},
   "source": [
    "### Fake data\n",
    "Here we generate fake state data since actions are a function of states."
   ]
  },
  {
   "cell_type": "code",
   "execution_count": null,
   "metadata": {},
   "outputs": [],
   "source": [
    "data = np.ones(len(CustomState.channels()))\n",
    "state = CustomState(data)"
   ]
  },
  {
   "cell_type": "markdown",
   "metadata": {},
   "source": [
    "### Continuous controller\n",
    "Here we make a continuous controller and get an action a few times.  You can see that the ranges being sampled correspond to the `legal_values` class variable."
   ]
  },
  {
   "cell_type": "code",
   "execution_count": null,
   "metadata": {},
   "outputs": [],
   "source": [
    "crc = ContinuousRandomActionController(CustomState.channels(),\n",
    "                                       ContinuousAction)\n",
    "print(crc.get_action(state))\n",
    "print(crc.get_action(state))\n",
    "print(crc.get_action(state))\n",
    "print(crc.get_action(state))\n",
    "print(crc.get_action(state))"
   ]
  },
  {
   "cell_type": "markdown",
   "metadata": {},
   "source": [
    "### Discrete controller with discrete action\n",
    "Here we create a discrete action controller and generate a few actions.  Note also that the values are sampled from the `legal_values` class variable."
   ]
  },
  {
   "cell_type": "code",
   "execution_count": null,
   "metadata": {},
   "outputs": [],
   "source": [
    "drc1 = DiscreteRandomActionController(CustomState.channels(),\n",
    "                                      DiscreteAction)\n",
    "print(drc1.get_action(state))\n",
    "print(drc1.get_action(state))\n",
    "print(drc1.get_action(state))\n",
    "print(drc1.get_action(state))\n",
    "print(drc1.get_action(state))"
   ]
  },
  {
   "cell_type": "markdown",
   "metadata": {},
   "source": [
    "### Discrete Controller with delayed discrete action\n",
    "Here we create a discrete action controller and specify a delay of 5.  Notice how the state only changes every 5 states/`get_action` calls."
   ]
  },
  {
   "cell_type": "code",
   "execution_count": null,
   "metadata": {},
   "outputs": [],
   "source": [
    "drc4 = DiscreteRandomActionController(CustomState.channels(),\n",
    "                                      DiscreteAction,\n",
    "                                      num_repeat=5)\n",
    "print(drc4.get_action(state))\n",
    "print(drc4.get_action(state))\n",
    "print(drc4.get_action(state))\n",
    "print(drc4.get_action(state))\n",
    "print(drc4.get_action(state))\n",
    "print(\"Change here--\")\n",
    "print(drc4.get_action(state))\n",
    "print(drc4.get_action(state))\n",
    "print(drc4.get_action(state))\n",
    "print(drc4.get_action(state))\n",
    "print(drc4.get_action(state))"
   ]
  }
 ],
 "metadata": {
  "kernelspec": {
   "display_name": "Python 3",
   "language": "python",
   "name": "python3"
  },
  "language_info": {
   "codemirror_mode": {
    "name": "ipython",
    "version": 3
   },
   "file_extension": ".py",
   "mimetype": "text/x-python",
   "name": "python",
   "nbconvert_exporter": "python",
   "pygments_lexer": "ipython3",
   "version": "3.7.4"
  }
 },
 "nbformat": 4,
 "nbformat_minor": 2
}
