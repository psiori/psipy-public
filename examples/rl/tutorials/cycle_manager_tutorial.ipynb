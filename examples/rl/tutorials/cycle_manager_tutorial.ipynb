{
 "cells": [
  {
   "cell_type": "markdown",
   "metadata": {},
   "source": [
    "# Cycle Manager Tutorial\n",
    "This tutorial will explain how to use the cycle manager."
   ]
  },
  {
   "cell_type": "code",
   "execution_count": 1,
   "metadata": {},
   "outputs": [],
   "source": [
    "import time\n",
    "\n",
    "from psipy.rl.cycle_manager import CycleManager"
   ]
  },
  {
   "cell_type": "markdown",
   "metadata": {},
   "source": [
    "## What does the Cycle Manager do?\n",
    "The cycle manager is an object which contains timers, each of which records cycle times of various processes.  The timers calculate an exponential weighted moving average (EMA) with a period of 100 centiseconds.  In other words, it is the weighted average over the past second.\n",
    "\n",
    "The cycle manager also deals with ZMQ communication between the loop and the TUI.  It also can hold diagnostic information to be sent to a third party.  Essentially, it is a workhorse which can do many things related to managing the cycle."
   ]
  },
  {
   "cell_type": "markdown",
   "metadata": {},
   "source": [
    "## How to use the Cycle Manager $-$ For Timing\n",
    "Instantiate the manager first.  To start a timer, just use the manager as a dictionary and \"open\" a new key with the ```.tick()``` method, e.g. ```cycle_manager['Tutorial'].tick()```.  Once what you are trying to record is over, call the ```.tock()``` method.  Since this may make the code very cluttered, you can also use ```with```, in which case you do not need to call ```.tick()```.  See the example below:"
   ]
  },
  {
   "cell_type": "code",
   "execution_count": 2,
   "metadata": {},
   "outputs": [
    {
     "name": "stdout",
     "output_type": "stream",
     "text": [
      "Time (sec, std sec): 0.5051514677482076\n"
     ]
    }
   ],
   "source": [
    "def loop(manager):\n",
    "    manager['task1'].tick()\n",
    "    time.sleep(.5)\n",
    "    manager['task1'].tock()\n",
    "    # This is equivalent to:\n",
    "    #with manager['task1']:\n",
    "    #    time.sleep(.5)\n",
    "    \n",
    "manager = CycleManager()\n",
    "\n",
    "for _ in range(2):\n",
    "    loop(manager)\n",
    "    \n",
    "print(\"Time (sec, std sec):\", manager['task1'].time)"
   ]
  },
  {
   "cell_type": "markdown",
   "metadata": {},
   "source": [
    "## Timer Specifics\n",
    "Timers have a ```time``` property, which automatically accessed the callback data directly."
   ]
  },
  {
   "cell_type": "markdown",
   "metadata": {},
   "source": [
    "## Interpreting the EMA\n",
    "The EMA is weighted such that the latest observations are weighted more.  Below is an example of how such an average behaves.  The loop cycles between .5 and .25 seconds, and so the average should be between those two numbers.  However, since the EMA has a weighting function, the EMA won't equal .375 (the simple average) until it is \"full\", i.e. it has seen 100 observations.  \n",
    "\n",
    "Note, this takes a couple of minutes to run!"
   ]
  },
  {
   "cell_type": "code",
   "execution_count": 3,
   "metadata": {},
   "outputs": [
    {
     "name": "stdout",
     "output_type": "stream",
     "text": [
      "Time (sec, std sec): 0.3781172094899834\n"
     ]
    }
   ],
   "source": [
    "def loop(manager):\n",
    "    with manager['task1']:\n",
    "        time.sleep(.5)\n",
    "    with manager['task1']:\n",
    "        time.sleep(.25)\n",
    "    \n",
    "manager = CycleManager()\n",
    "\n",
    "for _ in range(200):\n",
    "    loop(manager)\n",
    "    \n",
    "print(\"Time (sec, std sec):\", manager['task1'].time)"
   ]
  },
  {
   "cell_type": "markdown",
   "metadata": {},
   "source": [
    "Note that the average time is around .375, which is equivalent to:"
   ]
  },
  {
   "cell_type": "code",
   "execution_count": null,
   "metadata": {},
   "outputs": [],
   "source": [
    "(.5+.25)/2"
   ]
  },
  {
   "cell_type": "markdown",
   "metadata": {},
   "source": [
    "which is the simple average time."
   ]
  }
 ],
 "metadata": {
  "kernelspec": {
   "display_name": "Python 3 (ipykernel)",
   "language": "python",
   "name": "python3"
  },
  "language_info": {
   "codemirror_mode": {
    "name": "ipython",
    "version": 3
   },
   "file_extension": ".py",
   "mimetype": "text/x-python",
   "name": "python",
   "nbconvert_exporter": "python",
   "pygments_lexer": "ipython3",
   "version": "3.8.19"
  }
 },
 "nbformat": 4,
 "nbformat_minor": 4
}
